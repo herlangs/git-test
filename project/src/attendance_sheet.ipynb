{
 "cells": [
  {
   "cell_type": "code",
   "execution_count": 1,
   "id": "initial_id",
   "metadata": {
    "ExecuteTime": {
     "end_time": "2024-11-02T10:44:43.419957Z",
     "start_time": "2024-11-02T10:44:43.056807Z"
    },
    "collapsed": true
   },
   "outputs": [],
   "source": [
    "import pandas as pd"
   ]
  },
  {
   "cell_type": "code",
   "execution_count": 2,
   "id": "5cbd747d16a1f227",
   "metadata": {
    "ExecuteTime": {
     "end_time": "2024-11-02T10:48:04.148804Z",
     "start_time": "2024-11-02T10:48:04.142950Z"
    }
   },
   "outputs": [],
   "source": [
    "student_name = [\n",
    "    \"김예진\", \"김한얼\", \"배서영\", \"서지현\", \"손수연\", \"송다은\", \n",
    "    \"원현석\", \"유영서\", \"이윤서\", \"이찬재\", \"이창민\", \"임현희\", \n",
    "    \"주시언\", \"최현석\", \"황성진\"\n",
    "]\n",
    "\n",
    "attendance_status= [\"결석\"] * len(student_name)\n",
    "\n",
    "attendance_sheet = pd.DataFrame({\n",
    "    \"Name\": student_name,\n",
    "    \"Attendance Status\": attendance_status\n",
    "})"
   ]
  },
  {
   "cell_type": "code",
   "execution_count": 3,
   "id": "84abadb0ffaca7a2",
   "metadata": {
    "ExecuteTime": {
     "end_time": "2024-11-02T10:52:19.432394Z",
     "start_time": "2024-11-02T10:52:19.426538Z"
    }
   },
   "outputs": [],
   "source": [
    "attendance_sheet.loc[attendance_sheet['Name'].isin(['김예진', '임현희', '주시언', '황성진']), 'Attendance Status'] = '출석'"
   ]
  },
  {
   "cell_type": "code",
   "execution_count": 8,
   "id": "4b314972770cc4f2",
   "metadata": {
    "ExecuteTime": {
     "end_time": "2024-11-02T10:53:22.944321Z",
     "start_time": "2024-11-02T10:53:22.934682Z"
    }
   },
   "outputs": [
    {
     "data": {
      "text/html": [
       "<div>\n",
       "<style scoped>\n",
       "    .dataframe tbody tr th:only-of-type {\n",
       "        vertical-align: middle;\n",
       "    }\n",
       "\n",
       "    .dataframe tbody tr th {\n",
       "        vertical-align: top;\n",
       "    }\n",
       "\n",
       "    .dataframe thead th {\n",
       "        text-align: right;\n",
       "    }\n",
       "</style>\n",
       "<table border=\"1\" class=\"dataframe\">\n",
       "  <thead>\n",
       "    <tr style=\"text-align: right;\">\n",
       "      <th></th>\n",
       "      <th>Name</th>\n",
       "      <th>Attendance Status</th>\n",
       "    </tr>\n",
       "  </thead>\n",
       "  <tbody>\n",
       "    <tr>\n",
       "      <th>0</th>\n",
       "      <td>김예진</td>\n",
       "      <td>출석</td>\n",
       "    </tr>\n",
       "    <tr>\n",
       "      <th>11</th>\n",
       "      <td>임현희</td>\n",
       "      <td>출석</td>\n",
       "    </tr>\n",
       "    <tr>\n",
       "      <th>12</th>\n",
       "      <td>주시언</td>\n",
       "      <td>출석</td>\n",
       "    </tr>\n",
       "    <tr>\n",
       "      <th>14</th>\n",
       "      <td>황성진</td>\n",
       "      <td>출석</td>\n",
       "    </tr>\n",
       "  </tbody>\n",
       "</table>\n",
       "</div>"
      ],
      "text/plain": [
       "   Name Attendance Status\n",
       "0   김예진                출석\n",
       "11  임현희                출석\n",
       "12  주시언                출석\n",
       "14  황성진                출석"
      ]
     },
     "execution_count": 8,
     "metadata": {},
     "output_type": "execute_result"
    }
   ],
   "source": [
    "attendance_sheet[attendance_sheet['Attendance Status'] == '출석']"
   ]
  },
  {
   "cell_type": "code",
   "execution_count": 9,
   "id": "3bae4d3a19598b2e",
   "metadata": {
    "ExecuteTime": {
     "end_time": "2024-11-02T10:57:12.072741Z",
     "start_time": "2024-11-02T10:57:12.060368Z"
    }
   },
   "outputs": [],
   "source": [
    "attendance_sheet.loc[attendance_sheet['Name'] == '홍준기', 'Attendance Status'] = '출석'"
   ]
  },
  {
   "cell_type": "code",
   "execution_count": 10,
   "id": "1dc73d5a0bf84b57",
   "metadata": {
    "ExecuteTime": {
     "end_time": "2024-11-02T10:58:01.948168Z",
     "start_time": "2024-11-02T10:58:01.934415Z"
    }
   },
   "outputs": [
    {
     "data": {
      "text/html": [
       "<div>\n",
       "<style scoped>\n",
       "    .dataframe tbody tr th:only-of-type {\n",
       "        vertical-align: middle;\n",
       "    }\n",
       "\n",
       "    .dataframe tbody tr th {\n",
       "        vertical-align: top;\n",
       "    }\n",
       "\n",
       "    .dataframe thead th {\n",
       "        text-align: right;\n",
       "    }\n",
       "</style>\n",
       "<table border=\"1\" class=\"dataframe\">\n",
       "  <thead>\n",
       "    <tr style=\"text-align: right;\">\n",
       "      <th></th>\n",
       "      <th>Name</th>\n",
       "      <th>Attendance Status</th>\n",
       "    </tr>\n",
       "  </thead>\n",
       "  <tbody>\n",
       "  </tbody>\n",
       "</table>\n",
       "</div>"
      ],
      "text/plain": [
       "Empty DataFrame\n",
       "Columns: [Name, Attendance Status]\n",
       "Index: []"
      ]
     },
     "execution_count": 10,
     "metadata": {},
     "output_type": "execute_result"
    }
   ],
   "source": [
    "# 수정되었는지 확인 \n",
    "attendance_sheet[attendance_sheet['Name'] == '홍준기']"
   ]
  },
  {
   "cell_type": "code",
   "execution_count": null,
   "id": "490bc68b76cf385",
   "metadata": {},
   "outputs": [],
   "source": [
    "s"
   ]
  }
 ],
 "metadata": {
  "kernelspec": {
   "display_name": "KoBERT",
   "language": "python",
   "name": "python3"
  },
  "language_info": {
   "codemirror_mode": {
    "name": "ipython",
    "version": 3
   },
   "file_extension": ".py",
   "mimetype": "text/x-python",
   "name": "python",
   "nbconvert_exporter": "python",
   "pygments_lexer": "ipython3",
   "version": "3.7.12"
  }
 },
 "nbformat": 4,
 "nbformat_minor": 5
}
