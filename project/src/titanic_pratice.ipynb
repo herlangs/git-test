{
 "cells": [
  {
   "cell_type": "code",
   "id": "initial_id",
   "metadata": {},
   "source": [
    "import pandas as pd\n",
    "import numpy as np"
   ],
   "outputs": [],
   "execution_count": null
  },
  {
   "metadata": {},
   "cell_type": "markdown",
   "source": "## 데이터 불러오기",
   "id": "321cad4f062e976e"
  },
  {
   "cell_type": "code",
   "id": "e16e13d92a2d9d4b",
   "metadata": {},
   "source": "df = pd.????('../docs/titanica.csv')",
   "outputs": [],
   "execution_count": null
  },
  {
   "cell_type": "code",
   "id": "89f7714c9023302a",
   "metadata": {},
   "source": "df.???()",
   "outputs": [],
   "execution_count": null
  },
  {
   "cell_type": "code",
   "id": "e340f36f1214f5f0",
   "metadata": {},
   "source": "# 행, 열 출력\n",
   "outputs": [],
   "execution_count": null
  },
  {
   "metadata": {},
   "cell_type": "code",
   "source": "",
   "id": "29c821025b3620e8",
   "outputs": [],
   "execution_count": null
  },
  {
   "metadata": {},
   "cell_type": "code",
   "source": "",
   "id": "1743d9fd1c6e0972",
   "outputs": [],
   "execution_count": null
  },
  {
   "metadata": {},
   "cell_type": "code",
   "source": "",
   "id": "1b73fc8da89488a6",
   "outputs": [],
   "execution_count": null
  },
  {
   "metadata": {},
   "cell_type": "markdown",
   "source": "### 정렬",
   "id": "2f69b8330b82ed99"
  },
  {
   "metadata": {},
   "cell_type": "code",
   "source": "# ascending= True(default) : 오름차순\n",
   "id": "c33616b17f6374ae",
   "outputs": [],
   "execution_count": null
  },
  {
   "metadata": {},
   "cell_type": "markdown",
   "source": "### 결측치 확인",
   "id": "47c44ca9ce28b04c"
  },
  {
   "metadata": {},
   "cell_type": "code",
   "source": "",
   "id": "d952a9463cf8bb7f",
   "outputs": [],
   "execution_count": null
  },
  {
   "metadata": {},
   "cell_type": "code",
   "source": [
    "# 결측치 있는 행 제거 (열 제거는 axis=1)\n",
    "# 결측치 대체는 .fillna()\n"
   ],
   "id": "eaf1f40f6cf61ab9",
   "outputs": [],
   "execution_count": null
  },
  {
   "metadata": {},
   "cell_type": "code",
   "source": "",
   "id": "5d658a8d5328ca9a",
   "outputs": [],
   "execution_count": null
  },
  {
   "metadata": {},
   "cell_type": "code",
   "source": [
    "# 인덱스가 순서가 이상함\n",
    "df.head()"
   ],
   "id": "e4bd69f19e28468b",
   "outputs": [],
   "execution_count": null
  },
  {
   "metadata": {},
   "cell_type": "code",
   "source": [
    "# drop=Ture 기존 순서가 엉망인 인덱스가 새로운 컬럼으로 저장되지 않음\n",
    "\n",
    "df.head()"
   ],
   "id": "46b1764e224ccf30",
   "outputs": [],
   "execution_count": null
  },
  {
   "metadata": {},
   "cell_type": "markdown",
   "source": [
    "### 새로운 컬럼 생성\n",
    "`Age`변수를 활용해서 나이대를 나타내는 변수를 생성해보자"
   ],
   "id": "1c027de431c0029"
  },
  {
   "metadata": {},
   "cell_type": "code",
   "source": "",
   "id": "47a2dc2bddd03fab",
   "outputs": [],
   "execution_count": null
  },
  {
   "metadata": {},
   "cell_type": "code",
   "source": "# for문 이용\n",
   "id": "4c39c04f58245a7c",
   "outputs": [],
   "execution_count": null
  },
  {
   "metadata": {},
   "cell_type": "code",
   "source": "",
   "id": "ead9e46fa8bfa30e",
   "outputs": [],
   "execution_count": null
  },
  {
   "metadata": {},
   "cell_type": "markdown",
   "source": "### 그룹으로 계산하기",
   "id": "e20460593d485000"
  },
  {
   "metadata": {},
   "cell_type": "code",
   "source": "",
   "id": "4042472fd53ae9bc",
   "outputs": [],
   "execution_count": null
  },
  {
   "metadata": {},
   "cell_type": "code",
   "source": "",
   "id": "865275713e18fe6e",
   "outputs": [],
   "execution_count": null
  },
  {
   "metadata": {},
   "cell_type": "code",
   "source": "",
   "id": "1df5432a65dcd8aa",
   "outputs": [],
   "execution_count": null
  },
  {
   "metadata": {},
   "cell_type": "code",
   "source": "",
   "id": "5202a361b6abc75e",
   "outputs": [],
   "execution_count": null
  }
 ],
 "metadata": {
  "kernelspec": {
   "display_name": "Python 3 (ipykernel)",
   "language": "python",
   "name": "python3"
  },
  "language_info": {
   "codemirror_mode": {
    "name": "ipython",
    "version": 3
   },
   "file_extension": ".py",
   "mimetype": "text/x-python",
   "name": "python",
   "nbconvert_exporter": "python",
   "pygments_lexer": "ipython3",
   "version": "3.11.0"
  }
 },
 "nbformat": 4,
 "nbformat_minor": 5
}
